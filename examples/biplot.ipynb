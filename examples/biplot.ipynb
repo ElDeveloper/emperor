{
 "cells": [
  {
   "cell_type": "markdown",
   "metadata": {
    "deletable": true,
    "editable": true,
    "slideshow": {
     "slide_type": "slide"
    }
   },
   "source": [
    "# Emperor's Python API\n",
    "\n",
    "**This notebook demonstrate Emperor's new Python API, which can and will change as we continue to exercise this interface, for more information, have a look at the [pull request here](https://github.com/biocore/emperor/pull/405).**"
   ]
  },
  {
   "cell_type": "code",
   "execution_count": null,
   "metadata": {
    "collapsed": false,
    "deletable": true,
    "editable": true,
    "slideshow": {
     "slide_type": "slide"
    }
   },
   "outputs": [],
   "source": [
    "import pandas as pd, numpy as np\n",
    "\n",
    "from emperor import Emperor, nbinstall\n",
    "from skbio import OrdinationResults\n",
    "from skbio.io.util import open_file\n",
    "\n",
    "nbinstall()\n",
    "\n",
    "def load_mf(fn, index='#SampleID'):\n",
    "    _mf = pd.read_csv(fn, sep='\\t', dtype=str, keep_default_na=False, na_values=[])\n",
    "    _mf.set_index(index, inplace=True)\n",
    "    return _mf"
   ]
  },
  {
   "cell_type": "markdown",
   "metadata": {
    "deletable": true,
    "editable": true
   },
   "source": [
    "We are going to load data from [Fierer et al. 2010](http://www.pnas.org/content/107/14/6477.full) (the data was retrieved from study [232](https://qiita.ucsd.edu/study/description/232) in [Qiita](https://qiita.ucsd.edu), remember you need to be logged in to access the study).\n",
    "\n",
    "Specifically, here we will reproduce *Figure 1 A*."
   ]
  },
  {
   "cell_type": "code",
   "execution_count": null,
   "metadata": {
    "collapsed": false,
    "deletable": true,
    "editable": true,
    "slideshow": {
     "slide_type": "slide"
    }
   },
   "outputs": [],
   "source": [
    "mf = load_mf('keyboard/mapping-file.txt')\n",
    "res = OrdinationResults.read('keyboard/unweighted-unifrac.even1000.txt')"
   ]
  },
  {
   "cell_type": "markdown",
   "metadata": {
    "deletable": true,
    "editable": true
   },
   "source": [
    "Since we don't have appropriate environmental data for this dataset, we will just create some randomized points for the features."
   ]
  },
  {
   "cell_type": "code",
   "execution_count": null,
   "metadata": {
    "collapsed": false,
    "deletable": true,
    "editable": true,
    "scrolled": true
   },
   "outputs": [],
   "source": [
    "N_FEATURES = 10\n",
    "res.features = pd.DataFrame(data=np.random.randn(N_FEATURES, res.samples.shape[1]),\n",
    "                            index=list('abcdefghijklmnopqrst')[:N_FEATURES])\n",
    "\n",
    "feature_mf = pd.DataFrame(data=np.random.randint(0, 3, size=(N_FEATURES, 4)),\n",
    "                          columns=['kingdom', 'phylum', 'class', 'order'],\n",
    "                          index=list('abcdefghijklmnopqrst')[:N_FEATURES])"
   ]
  },
  {
   "cell_type": "markdown",
   "metadata": {
    "deletable": true,
    "editable": true
   },
   "source": [
    "# With feature metadata"
   ]
  },
  {
   "cell_type": "code",
   "execution_count": null,
   "metadata": {
    "collapsed": false,
    "deletable": true,
    "editable": true
   },
   "outputs": [],
   "source": [
    "Emperor(res, mf, feature_mf, remote=False)"
   ]
  },
  {
   "cell_type": "markdown",
   "metadata": {
    "deletable": true,
    "editable": true
   },
   "source": [
    "# Without feature metadata"
   ]
  },
  {
   "cell_type": "code",
   "execution_count": null,
   "metadata": {
    "collapsed": false,
    "deletable": true,
    "editable": true
   },
   "outputs": [],
   "source": [
    "Emperor(res, mf, remote=False)"
   ]
  }
 ],
 "metadata": {
  "kernelspec": {
   "display_name": "Python 3",
   "language": "python",
   "name": "python3"
  },
  "language_info": {
   "codemirror_mode": {
    "name": "ipython",
    "version": 3
   },
   "file_extension": ".py",
   "mimetype": "text/x-python",
   "name": "python",
   "nbconvert_exporter": "python",
   "pygments_lexer": "ipython3",
   "version": "3.5.1"
  },
  "widgets": {
   "state": {},
   "version": "1.1.2"
  }
 },
 "nbformat": 4,
 "nbformat_minor": 0
}
